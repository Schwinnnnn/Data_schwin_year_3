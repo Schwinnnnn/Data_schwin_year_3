{
 "cells": [
  {
   "cell_type": "code",
   "execution_count": 8,
   "metadata": {},
   "outputs": [],
   "source": [
    "import numpy as np\n",
    "import matplotlib.pyplot as plt\n",
    "import pandas as pd\n",
    "import seaborn as sns\n",
    "import ipywidgets as widgets\n",
    "from IPython.display import display"
   ]
  },
  {
   "cell_type": "code",
   "execution_count": 2,
   "metadata": {},
   "outputs": [],
   "source": [
    "df2 = pd.read_csv(\"cost_per_household.csv\")"
   ]
  },
  {
   "cell_type": "code",
   "execution_count": 3,
   "metadata": {},
   "outputs": [
    {
     "name": "stdout",
     "output_type": "stream",
     "text": [
      "<class 'pandas.core.frame.DataFrame'>\n",
      "RangeIndex: 1512 entries, 0 to 1511\n",
      "Data columns (total 7 columns):\n",
      " #   Column        Non-Null Count  Dtype \n",
      "---  ------        --------------  ----- \n",
      " 0   YEAR          1512 non-null   int64 \n",
      " 1   REGION        1512 non-null   object\n",
      " 2   AREA          1512 non-null   object\n",
      " 3   TYPE_EXPENSE  1512 non-null   object\n",
      " 4   VALUE         1512 non-null   int64 \n",
      " 5   UNIT          1512 non-null   object\n",
      " 6   SOURCE        1512 non-null   object\n",
      "dtypes: int64(2), object(5)\n",
      "memory usage: 82.8+ KB\n"
     ]
    }
   ],
   "source": [
    "df2.info()"
   ]
  },
  {
   "cell_type": "code",
   "execution_count": 4,
   "metadata": {},
   "outputs": [
    {
     "data": {
      "text/html": [
       "<div>\n",
       "<style scoped>\n",
       "    .dataframe tbody tr th:only-of-type {\n",
       "        vertical-align: middle;\n",
       "    }\n",
       "\n",
       "    .dataframe tbody tr th {\n",
       "        vertical-align: top;\n",
       "    }\n",
       "\n",
       "    .dataframe thead th {\n",
       "        text-align: right;\n",
       "    }\n",
       "</style>\n",
       "<table border=\"1\" class=\"dataframe\">\n",
       "  <thead>\n",
       "    <tr style=\"text-align: right;\">\n",
       "      <th></th>\n",
       "      <th>YEAR</th>\n",
       "      <th>REGION</th>\n",
       "      <th>AREA</th>\n",
       "      <th>TYPE_EXPENSE</th>\n",
       "      <th>VALUE</th>\n",
       "      <th>UNIT</th>\n",
       "      <th>SOURCE</th>\n",
       "    </tr>\n",
       "  </thead>\n",
       "  <tbody>\n",
       "    <tr>\n",
       "      <th>0</th>\n",
       "      <td>2554</td>\n",
       "      <td>ทั่วราชอาณาจักร</td>\n",
       "      <td>รวม</td>\n",
       "      <td>ค่าใช้จ่ายทั้งสิ้นต่อเดือน</td>\n",
       "      <td>17403</td>\n",
       "      <td>บาท</td>\n",
       "      <td>สำนักงานสถิติแห่งชาติ</td>\n",
       "    </tr>\n",
       "    <tr>\n",
       "      <th>1</th>\n",
       "      <td>2554</td>\n",
       "      <td>ทั่วราชอาณาจักร</td>\n",
       "      <td>รวม</td>\n",
       "      <td>ค่าใช้จ่ายเพื่อการอุปโภคบริโภค</td>\n",
       "      <td>15328</td>\n",
       "      <td>บาท</td>\n",
       "      <td>สำนักงานสถิติแห่งชาติ</td>\n",
       "    </tr>\n",
       "    <tr>\n",
       "      <th>2</th>\n",
       "      <td>2554</td>\n",
       "      <td>ทั่วราชอาณาจักร</td>\n",
       "      <td>รวม</td>\n",
       "      <td>อาหาร และเครื่องดื่ม (ไม่มีแอลกอฮอล์)</td>\n",
       "      <td>5660</td>\n",
       "      <td>บาท</td>\n",
       "      <td>สำนักงานสถิติแห่งชาติ</td>\n",
       "    </tr>\n",
       "    <tr>\n",
       "      <th>3</th>\n",
       "      <td>2554</td>\n",
       "      <td>ทั่วราชอาณาจักร</td>\n",
       "      <td>รวม</td>\n",
       "      <td>เครื่องดื่มที่มีแอลกอฮอล์</td>\n",
       "      <td>95</td>\n",
       "      <td>บาท</td>\n",
       "      <td>สำนักงานสถิติแห่งชาติ</td>\n",
       "    </tr>\n",
       "    <tr>\n",
       "      <th>4</th>\n",
       "      <td>2554</td>\n",
       "      <td>ทั่วราชอาณาจักร</td>\n",
       "      <td>รวม</td>\n",
       "      <td>ยาสูบ หมาก ยานัตถุ์ และอื่นๆ</td>\n",
       "      <td>85</td>\n",
       "      <td>บาท</td>\n",
       "      <td>สำนักงานสถิติแห่งชาติ</td>\n",
       "    </tr>\n",
       "  </tbody>\n",
       "</table>\n",
       "</div>"
      ],
      "text/plain": [
       "   YEAR           REGION AREA                           TYPE_EXPENSE  VALUE  \\\n",
       "0  2554  ทั่วราชอาณาจักร  รวม             ค่าใช้จ่ายทั้งสิ้นต่อเดือน  17403   \n",
       "1  2554  ทั่วราชอาณาจักร  รวม         ค่าใช้จ่ายเพื่อการอุปโภคบริโภค  15328   \n",
       "2  2554  ทั่วราชอาณาจักร  รวม  อาหาร และเครื่องดื่ม (ไม่มีแอลกอฮอล์)   5660   \n",
       "3  2554  ทั่วราชอาณาจักร  รวม              เครื่องดื่มที่มีแอลกอฮอล์     95   \n",
       "4  2554  ทั่วราชอาณาจักร  รวม          ยาสูบ หมาก ยานัตถุ์ และอื่นๆ      85   \n",
       "\n",
       "  UNIT                 SOURCE  \n",
       "0  บาท  สำนักงานสถิติแห่งชาติ  \n",
       "1  บาท  สำนักงานสถิติแห่งชาติ  \n",
       "2  บาท  สำนักงานสถิติแห่งชาติ  \n",
       "3  บาท  สำนักงานสถิติแห่งชาติ  \n",
       "4  บาท  สำนักงานสถิติแห่งชาติ  "
      ]
     },
     "execution_count": 4,
     "metadata": {},
     "output_type": "execute_result"
    }
   ],
   "source": [
    "df2.head()"
   ]
  },
  {
   "cell_type": "code",
   "execution_count": 5,
   "metadata": {},
   "outputs": [
    {
     "data": {
      "text/plain": [
       "array(['ค่าใช้จ่ายทั้งสิ้นต่อเดือน', 'ค่าใช้จ่ายเพื่อการอุปโภคบริโภค',\n",
       "       'อาหาร และเครื่องดื่ม (ไม่มีแอลกอฮอล์)',\n",
       "       'เครื่องดื่มที่มีแอลกอฮอล์', 'ยาสูบ หมาก ยานัตถุ์ และอื่นๆ\\xa0',\n",
       "       'ที่อยู่อาศัย เครื่องแต่งบ้าน และเครื่องใช้ต่าง ๆ',\n",
       "       'เครื่องนุ่งห่มและรองเท้า', 'ค่าใช้จ่ายส่วนบุคคล',\n",
       "       'เวชภัณฑ์และค่าตรวจรักษาพยาบาล', 'การเดินทางและการสื่อสาร',\n",
       "       'การศึกษา', 'การบันเทิง การอ่านและกิจกรรมทางศาสนา',\n",
       "       'การจัดงานพิธีในโอกาสพิเศษ',\n",
       "       'ค่าใช้จ่ายที่ไม่เกี่ยวกับการอุปโภคบริโภค'], dtype=object)"
      ]
     },
     "execution_count": 5,
     "metadata": {},
     "output_type": "execute_result"
    }
   ],
   "source": [
    "df2[\"TYPE_EXPENSE\"].unique()"
   ]
  },
  {
   "cell_type": "code",
   "execution_count": 12,
   "metadata": {},
   "outputs": [],
   "source": [
    "df2['TYPE_EXPENSE'].replace({'ค่าใช้จ่ายทั้งสิ้นต่อเดือน': 'Total expenses per month'}, inplace=True)\n",
    "df2['TYPE_EXPENSE'].replace({'ค่าใช้จ่ายเพื่อการอุปโภคบริโภค': 'Consumption expenses'}, inplace=True)\n",
    "df2['TYPE_EXPENSE'].replace({'อาหาร และเครื่องดื่ม (ไม่มีแอลกอฮอล์)': 'Food and drink (no alcohol)'}, inplace=True)\n",
    "df2['TYPE_EXPENSE'].replace({'เครื่องดื่มที่มีแอลกอฮอล์': 'Alcoholic drinks'}, inplace=True)\n",
    "df2['TYPE_EXPENSE'].replace({'ยาสูบ หมาก ยานัตถุ์ และอื่นๆ\\xa0': 'Tobacco, betel nut, snuff, etc.'}, inplace=True)\n",
    "df2['TYPE_EXPENSE'].replace({'ที่อยู่อาศัย เครื่องแต่งบ้าน และเครื่องใช้ต่าง ๆ': 'Housing, home decorations and various appliances.'}, inplace=True)\n",
    "df2['TYPE_EXPENSE'].replace({'เครื่องนุ่งห่มและรองเท้า': 'Clothing and shoes'}, inplace=True)\n",
    "df2['TYPE_EXPENSE'].replace({'ค่าใช้จ่ายส่วนบุคคล': 'Personal expenses'}, inplace=True)\n",
    "df2['TYPE_EXPENSE'].replace({'เวชภัณฑ์และค่าตรวจรักษาพยาบาล': 'Medical supplies and medical examination costs'}, inplace=True)\n",
    "df2['TYPE_EXPENSE'].replace({'การเดินทางและการสื่อสาร': 'Travel and communication'}, inplace=True)\n",
    "df2['TYPE_EXPENSE'].replace({'การศึกษา': 'Education'}, inplace=True)\n",
    "df2['TYPE_EXPENSE'].replace({'การบันเทิง การอ่านและกิจกรรมทางศาสนา': 'Entertainment, reading and religious activities'}, inplace=True)\n",
    "df2['TYPE_EXPENSE'].replace({'การจัดงานพิธีในโอกาสพิเศษ': 'Organizing ceremonies on special occasions'}, inplace=True)\n",
    "df2['TYPE_EXPENSE'].replace({'ค่าใช้จ่ายที่ไม่เกี่ยวกับการอุปโภคบริโภค': 'Non-consumption expenses'}, inplace=True)"
   ]
  },
  {
   "cell_type": "code",
   "execution_count": 13,
   "metadata": {},
   "outputs": [
    {
     "data": {
      "text/plain": [
       "array(['Total expenses per month', 'Consumption expenses',\n",
       "       'Food and drink (no alcohol)', 'Alcoholic drinks',\n",
       "       'Tobacco, betel nut, snuff, etc.',\n",
       "       'Housing, home decorations and various appliances.',\n",
       "       'Clothing and shoes', 'Personal expenses',\n",
       "       'Medical supplies and medical examination costs',\n",
       "       'Travel and communication', 'Education',\n",
       "       'Entertainment, reading and religious activities',\n",
       "       'Organizing ceremonies on special occasions',\n",
       "       'Non-consumption expenses'], dtype=object)"
      ]
     },
     "execution_count": 13,
     "metadata": {},
     "output_type": "execute_result"
    }
   ],
   "source": [
    "df2[\"TYPE_EXPENSE\"].unique()"
   ]
  },
  {
   "cell_type": "code",
   "execution_count": 11,
   "metadata": {},
   "outputs": [
    {
     "data": {
      "text/plain": [
       "0        True\n",
       "1       False\n",
       "2       False\n",
       "3       False\n",
       "4       False\n",
       "        ...  \n",
       "1507    False\n",
       "1508    False\n",
       "1509    False\n",
       "1510    False\n",
       "1511    False\n",
       "Name: TYPE_EXPENSE, Length: 1512, dtype: bool"
      ]
     },
     "execution_count": 11,
     "metadata": {},
     "output_type": "execute_result"
    }
   ],
   "source": [
    "df2[\"TYPE_EXPENSE\"] == \"Total expenses per month\""
   ]
  },
  {
   "cell_type": "code",
   "execution_count": 14,
   "metadata": {},
   "outputs": [
    {
     "data": {
      "text/html": [
       "<div>\n",
       "<style scoped>\n",
       "    .dataframe tbody tr th:only-of-type {\n",
       "        vertical-align: middle;\n",
       "    }\n",
       "\n",
       "    .dataframe tbody tr th {\n",
       "        vertical-align: top;\n",
       "    }\n",
       "\n",
       "    .dataframe thead th {\n",
       "        text-align: right;\n",
       "    }\n",
       "</style>\n",
       "<table border=\"1\" class=\"dataframe\">\n",
       "  <thead>\n",
       "    <tr style=\"text-align: right;\">\n",
       "      <th></th>\n",
       "      <th>YEAR</th>\n",
       "      <th>REGION</th>\n",
       "      <th>AREA</th>\n",
       "      <th>TYPE_EXPENSE</th>\n",
       "      <th>VALUE</th>\n",
       "      <th>UNIT</th>\n",
       "      <th>SOURCE</th>\n",
       "    </tr>\n",
       "  </thead>\n",
       "  <tbody>\n",
       "    <tr>\n",
       "      <th>0</th>\n",
       "      <td>2554</td>\n",
       "      <td>ทั่วราชอาณาจักร</td>\n",
       "      <td>รวม</td>\n",
       "      <td>Total expenses per month</td>\n",
       "      <td>17403</td>\n",
       "      <td>บาท</td>\n",
       "      <td>สำนักงานสถิติแห่งชาติ</td>\n",
       "    </tr>\n",
       "    <tr>\n",
       "      <th>1</th>\n",
       "      <td>2554</td>\n",
       "      <td>ทั่วราชอาณาจักร</td>\n",
       "      <td>รวม</td>\n",
       "      <td>Consumption expenses</td>\n",
       "      <td>15328</td>\n",
       "      <td>บาท</td>\n",
       "      <td>สำนักงานสถิติแห่งชาติ</td>\n",
       "    </tr>\n",
       "    <tr>\n",
       "      <th>2</th>\n",
       "      <td>2554</td>\n",
       "      <td>ทั่วราชอาณาจักร</td>\n",
       "      <td>รวม</td>\n",
       "      <td>Food and drink (no alcohol)</td>\n",
       "      <td>5660</td>\n",
       "      <td>บาท</td>\n",
       "      <td>สำนักงานสถิติแห่งชาติ</td>\n",
       "    </tr>\n",
       "    <tr>\n",
       "      <th>3</th>\n",
       "      <td>2554</td>\n",
       "      <td>ทั่วราชอาณาจักร</td>\n",
       "      <td>รวม</td>\n",
       "      <td>Alcoholic drinks</td>\n",
       "      <td>95</td>\n",
       "      <td>บาท</td>\n",
       "      <td>สำนักงานสถิติแห่งชาติ</td>\n",
       "    </tr>\n",
       "    <tr>\n",
       "      <th>4</th>\n",
       "      <td>2554</td>\n",
       "      <td>ทั่วราชอาณาจักร</td>\n",
       "      <td>รวม</td>\n",
       "      <td>Tobacco, betel nut, snuff, etc.</td>\n",
       "      <td>85</td>\n",
       "      <td>บาท</td>\n",
       "      <td>สำนักงานสถิติแห่งชาติ</td>\n",
       "    </tr>\n",
       "    <tr>\n",
       "      <th>...</th>\n",
       "      <td>...</td>\n",
       "      <td>...</td>\n",
       "      <td>...</td>\n",
       "      <td>...</td>\n",
       "      <td>...</td>\n",
       "      <td>...</td>\n",
       "      <td>...</td>\n",
       "    </tr>\n",
       "    <tr>\n",
       "      <th>1507</th>\n",
       "      <td>2564</td>\n",
       "      <td>ภาคใต้</td>\n",
       "      <td>นอกเขตเทศบาล</td>\n",
       "      <td>Travel and communication</td>\n",
       "      <td>4127</td>\n",
       "      <td>บาท</td>\n",
       "      <td>สำนักงานสถิติแห่งชาติ</td>\n",
       "    </tr>\n",
       "    <tr>\n",
       "      <th>1508</th>\n",
       "      <td>2564</td>\n",
       "      <td>ภาคใต้</td>\n",
       "      <td>นอกเขตเทศบาล</td>\n",
       "      <td>Education</td>\n",
       "      <td>215</td>\n",
       "      <td>บาท</td>\n",
       "      <td>สำนักงานสถิติแห่งชาติ</td>\n",
       "    </tr>\n",
       "    <tr>\n",
       "      <th>1509</th>\n",
       "      <td>2564</td>\n",
       "      <td>ภาคใต้</td>\n",
       "      <td>นอกเขตเทศบาล</td>\n",
       "      <td>Entertainment, reading and religious activities</td>\n",
       "      <td>223</td>\n",
       "      <td>บาท</td>\n",
       "      <td>สำนักงานสถิติแห่งชาติ</td>\n",
       "    </tr>\n",
       "    <tr>\n",
       "      <th>1510</th>\n",
       "      <td>2564</td>\n",
       "      <td>ภาคใต้</td>\n",
       "      <td>นอกเขตเทศบาล</td>\n",
       "      <td>Organizing ceremonies on special occasions</td>\n",
       "      <td>141</td>\n",
       "      <td>บาท</td>\n",
       "      <td>สำนักงานสถิติแห่งชาติ</td>\n",
       "    </tr>\n",
       "    <tr>\n",
       "      <th>1511</th>\n",
       "      <td>2564</td>\n",
       "      <td>ภาคใต้</td>\n",
       "      <td>นอกเขตเทศบาล</td>\n",
       "      <td>Non-consumption expenses</td>\n",
       "      <td>2227</td>\n",
       "      <td>บาท</td>\n",
       "      <td>สำนักงานสถิติแห่งชาติ</td>\n",
       "    </tr>\n",
       "  </tbody>\n",
       "</table>\n",
       "<p>1512 rows × 7 columns</p>\n",
       "</div>"
      ],
      "text/plain": [
       "      YEAR           REGION          AREA  \\\n",
       "0     2554  ทั่วราชอาณาจักร           รวม   \n",
       "1     2554  ทั่วราชอาณาจักร           รวม   \n",
       "2     2554  ทั่วราชอาณาจักร           รวม   \n",
       "3     2554  ทั่วราชอาณาจักร           รวม   \n",
       "4     2554  ทั่วราชอาณาจักร           รวม   \n",
       "...    ...              ...           ...   \n",
       "1507  2564           ภาคใต้  นอกเขตเทศบาล   \n",
       "1508  2564           ภาคใต้  นอกเขตเทศบาล   \n",
       "1509  2564           ภาคใต้  นอกเขตเทศบาล   \n",
       "1510  2564           ภาคใต้  นอกเขตเทศบาล   \n",
       "1511  2564           ภาคใต้  นอกเขตเทศบาล   \n",
       "\n",
       "                                         TYPE_EXPENSE  VALUE UNIT  \\\n",
       "0                            Total expenses per month  17403  บาท   \n",
       "1                                Consumption expenses  15328  บาท   \n",
       "2                         Food and drink (no alcohol)   5660  บาท   \n",
       "3                                    Alcoholic drinks     95  บาท   \n",
       "4                     Tobacco, betel nut, snuff, etc.     85  บาท   \n",
       "...                                               ...    ...  ...   \n",
       "1507                         Travel and communication   4127  บาท   \n",
       "1508                                        Education    215  บาท   \n",
       "1509  Entertainment, reading and religious activities    223  บาท   \n",
       "1510       Organizing ceremonies on special occasions    141  บาท   \n",
       "1511                         Non-consumption expenses   2227  บาท   \n",
       "\n",
       "                     SOURCE  \n",
       "0     สำนักงานสถิติแห่งชาติ  \n",
       "1     สำนักงานสถิติแห่งชาติ  \n",
       "2     สำนักงานสถิติแห่งชาติ  \n",
       "3     สำนักงานสถิติแห่งชาติ  \n",
       "4     สำนักงานสถิติแห่งชาติ  \n",
       "...                     ...  \n",
       "1507  สำนักงานสถิติแห่งชาติ  \n",
       "1508  สำนักงานสถิติแห่งชาติ  \n",
       "1509  สำนักงานสถิติแห่งชาติ  \n",
       "1510  สำนักงานสถิติแห่งชาติ  \n",
       "1511  สำนักงานสถิติแห่งชาติ  \n",
       "\n",
       "[1512 rows x 7 columns]"
      ]
     },
     "execution_count": 14,
     "metadata": {},
     "output_type": "execute_result"
    }
   ],
   "source": [
    "df2"
   ]
  },
  {
   "cell_type": "code",
   "execution_count": 36,
   "metadata": {},
   "outputs": [
    {
     "data": {
      "application/vnd.jupyter.widget-view+json": {
       "model_id": "a16e0c05940b4c2b8af50862d9781e88",
       "version_major": 2,
       "version_minor": 0
      },
      "text/plain": [
       "Dropdown(description='Type of Expense:', options=('Total expenses per month', 'Consumption expenses', 'Food an…"
      ]
     },
     "metadata": {},
     "output_type": "display_data"
    },
    {
     "data": {
      "image/png": "[encoded data removed]",
      "text/plain": [
       "<Figure size 1600x900 with 1 Axes>"
      ]
     },
     "metadata": {},
     "output_type": "display_data"
    },
    {
     "data": {
      "image/png": "[encoded data removed]",
      "text/plain": [
       "<Figure size 1600x900 with 1 Axes>"
      ]
     },
     "metadata": {},
     "output_type": "display_data"
    }
   ],
   "source": [
    "def update_plot(type_of_expense):\n",
    "\n",
    "    df2_filtered = df2[df2['TYPE_EXPENSE'] == type_of_expense]\n",
    "    \n",
    "    plt.figure(figsize=(16, 9))\n",
    "    sns.barplot(data = df2_filtered, x = \"TYPE_EXPENSE\", y=\"VALUE\" ,hue=\"YEAR\",errorbar=None, palette=\"rocket_r\")\n",
    "    plt.xlabel('Type of Expense')\n",
    "    plt.ylabel('Expense')\n",
    "    plt.title('Expense Sorted by Category')\n",
    "    plt.legend()\n",
    "    plt.show()\n",
    "\n",
    "type_of_expense_values = df2['TYPE_EXPENSE'].unique().tolist()\n",
    "\n",
    "dropdown_type_of_expense = widgets.Dropdown(options=type_of_expense_values, description='Type of Expense:')\n",
    "display(dropdown_type_of_expense)\n",
    "\n",
    "def on_dropdown_change(change):\n",
    "    update_plot(dropdown_type_of_expense.value)\n",
    "\n",
    "dropdown_type_of_expense.observe(on_dropdown_change, names='value')\n",
    "\n",
    "update_plot(type_of_expense_values[0])"
   ]
  },
  {
   "cell_type": "code",
   "execution_count": null,
   "metadata": {},
   "outputs": [],
   "source": []
  }
 ],
 "metadata": {
  "kernelspec": {
   "display_name": "Python 3",
   "language": "python",
   "name": "python3"
  },
  "language_info": {
   "codemirror_mode": {
    "name": "ipython",
    "version": 3
   },
   "file_extension": ".py",
   "mimetype": "text/x-python",
   "name": "python",
   "nbconvert_exporter": "python",
   "pygments_lexer": "ipython3",
   "version": "3.9.13"
  }
 },
 "nbformat": 4,
 "nbformat_minor": 2
}
